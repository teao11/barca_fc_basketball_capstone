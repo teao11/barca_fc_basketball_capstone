{
 "cells": [
  {
   "cell_type": "code",
   "execution_count": null,
   "id": "425934a2",
   "metadata": {},
   "outputs": [],
   "source": [
    "# import dependencies\n",
    "import pandas as pd\n",
    "import nba_api\n",
    "import time\n",
    "from nba_api.stats.static import players, teams\n",
    "from nba_api.stats.endpoints import commonplayerinfo, teamgamelogs, playercareerstats, playergamelogs, \\\n",
    "leaguegamelog, leaguegamefinder, playerdashboardbyyearoveryear\n",
    "from nba_api.stats.library.parameters import SeasonAll\n",
    "from itertools import zip_longest\n",
    "import os"
   ]
  },
  {
   "cell_type": "code",
   "execution_count": null,
   "id": "11297bc4",
   "metadata": {},
   "outputs": [],
   "source": [
    "# Header is necessary for connecting with the API\n",
    "custom_headers = {\n",
    "    'Host': 'stats.nba.com',\n",
    "    'Connection': 'keep-alive',\n",
    "    'Cache-Control': 'max-age=0',\n",
    "    'Upgrade-Insecure-Requests': '1',\n",
    "    'User-Agent': 'Mozilla/5.0 (Macintosh; Intel Mac OS X 10_14_3) AppleWebKit/537.36 (KHTML, like Gecko) Chrome/73.0.3683.86 Safari/537.36',\n",
    "    'Accept': 'text/html,application/xhtml+xml,application/xml;q=0.9,image/webp,image/apng,*/*;q=0.8,application/signed-exchange;v=b3',\n",
    "    'Accept-Encoding': 'gzip, deflate, br',\n",
    "    'Accept-Language': 'en-US,en;q=0.9',\n",
    "}"
   ]
  },
  {
   "cell_type": "code",
   "execution_count": null,
   "id": "e9380b93",
   "metadata": {},
   "outputs": [],
   "source": [
    "# Get all players dictionary.\n",
    "all_players_dict = players.get_players()\n",
    "all_players_dict"
   ]
  },
  {
   "cell_type": "code",
   "execution_count": null,
   "id": "53211f35",
   "metadata": {},
   "outputs": [],
   "source": [
    "# flatten data aka melting\n",
    "all_players_df = pd.json_normalize(all_players_dict)\n",
    "all_players_df"
   ]
  },
  {
   "cell_type": "code",
   "execution_count": null,
   "id": "15ee18ce",
   "metadata": {},
   "outputs": [],
   "source": [
    "# Get all teams.\n",
    "all_teams_dict = teams.get_teams()\n",
    "\n",
    "# flatten data\n",
    "all_teams_df = pd.json_normalize(all_teams_dict)"
   ]
  },
  {
   "cell_type": "code",
   "execution_count": null,
   "id": "776617e8",
   "metadata": {},
   "outputs": [],
   "source": [
    "all_teams_df.head()"
   ]
  },
  {
   "cell_type": "code",
   "execution_count": null,
   "id": "bfbe8efd",
   "metadata": {},
   "outputs": [],
   "source": [
    "# check to see how to pull in a player using Lebron as an example\n",
    "bron = [player for player in all_players_dict if player['full_name'] == 'LeBron James'][0]\n",
    "bron"
   ]
  },
  {
   "cell_type": "code",
   "execution_count": null,
   "id": "bd5bbcb5",
   "metadata": {},
   "outputs": [],
   "source": [
    "# finding lebron's player ID. \n",
    "bron_id = str(bron['id'])\n",
    "bron_id"
   ]
  },
  {
   "cell_type": "code",
   "execution_count": null,
   "id": "9e42bbc5",
   "metadata": {},
   "outputs": [],
   "source": [
    "# getting Golden State Warriors team info\n",
    "gsw = [team for team in all_teams_dict if team['full_name'] == \"Golden State Warriors\"][0]\n",
    "gsw"
   ]
  },
  {
   "cell_type": "code",
   "execution_count": null,
   "id": "7a08afa0",
   "metadata": {},
   "outputs": [],
   "source": [
    "# getting GSW team id\n",
    "gsw_id = gsw['id']\n",
    "gsw_id"
   ]
  },
  {
   "cell_type": "code",
   "execution_count": null,
   "id": "7dbd62e0",
   "metadata": {},
   "outputs": [],
   "source": [
    "# getting lebrons year stats\n",
    "gamelog_bron = playerdashboardbyyearoveryear.PlayerDashboardByYearOverYear(player_id = bron_id)\n",
    "gamelog_bron"
   ]
  },
  {
   "cell_type": "code",
   "execution_count": null,
   "id": "8a2bb72b",
   "metadata": {
    "scrolled": true
   },
   "outputs": [],
   "source": [
    "# in JSON format, so must turn into data frames. \n",
    "gamelog_bron_df = gamelog_bron.get_data_frames()[1]\n",
    "gamelog_bron_df"
   ]
  },
  {
   "cell_type": "code",
   "execution_count": null,
   "id": "86990881",
   "metadata": {},
   "outputs": [],
   "source": [
    "# check to see what features/stats comes with API\n",
    "columns = gamelog_bron_df.columns\n",
    "print(len(columns))\n",
    "columns"
   ]
  },
  {
   "cell_type": "code",
   "execution_count": null,
   "id": "803d7679",
   "metadata": {},
   "outputs": [],
   "source": [
    "# get all player IDs into a list so we can find all the stats of the players  \n",
    "player_ids = [player_id['id'] for player_id in all_players_dict]\n",
    "print(player_ids)"
   ]
  },
  {
   "cell_type": "code",
   "execution_count": null,
   "id": "9fc417b6",
   "metadata": {},
   "outputs": [],
   "source": [
    "# check how many players there are \n",
    "print(len(player_ids))"
   ]
  },
  {
   "cell_type": "code",
   "execution_count": null,
   "id": "f455694a",
   "metadata": {},
   "outputs": [],
   "source": [
    "# use the grouper function to try to create chunks of player id so API won't be mad at me and give me Timeout \n",
    "# this will group the player id's in a tuple\n",
    "def grouper(iterable, n, fillvalue=None):\n",
    "    args = [iter(iterable)] * n\n",
    "    return zip_longest(*args, fillvalue=fillvalue)"
   ]
  },
  {
   "cell_type": "code",
   "execution_count": null,
   "id": "37c4afba",
   "metadata": {},
   "outputs": [],
   "source": [
    "# chunker function does the same as grouper, just implemented differently into a list instead of a tuple\n",
    "def chunker(seq, size):\n",
    "    return (seq[pos:pos + size] for pos in range(0, len(seq), size))\n",
    "# (in python 2 use xrange() instead of range() to avoid allocating a list)"
   ]
  },
  {
   "cell_type": "code",
   "execution_count": null,
   "id": "23ce132a",
   "metadata": {},
   "outputs": [],
   "source": [
    "# check to see if chunker works\n",
    "for chunk in chunker(player_ids, 5):\n",
    "    print(chunk)"
   ]
  },
  {
   "cell_type": "code",
   "execution_count": null,
   "id": "80c5bd50",
   "metadata": {},
   "outputs": [],
   "source": [
    "# check to see if grouper works\n",
    "for group in grouper(player_ids, 10):\n",
    "    print(group)"
   ]
  },
  {
   "cell_type": "code",
   "execution_count": null,
   "id": "24b6641d",
   "metadata": {},
   "outputs": [],
   "source": [
    "# GSW_games = leaguegamefinder.LeagueGameFinder(team_id_nullable=gsw_id).get_data_frames()[0]\n",
    "# GSW_games.head()"
   ]
  },
  {
   "cell_type": "code",
   "execution_count": null,
   "id": "6ce9c520",
   "metadata": {},
   "outputs": [],
   "source": [
    "# create a gamelog data frame so we can start appending our players into the the dataframe.\n",
    "# data wont have player ID, so append player ID into 'id' column at the end of the df\n",
    "gamelog_players_df = pd.DataFrame(columns = columns)\n",
    "gamelog_players_df['id'] = ''\n",
    "gamelog_players_df"
   ]
  },
  {
   "cell_type": "code",
   "execution_count": null,
   "id": "1bbd4bc9",
   "metadata": {},
   "outputs": [],
   "source": [
    "# Connect into the api and get the first 100 players with a range of player ids to get game logs\n",
    "for player in player_ids[1:100]:\n",
    "    gamelog_players = playerdashboardbyyearoveryear.PlayerDashboardByYearOverYear(player_id = player)\n",
    "    temp_df = gamelog_players.get_data_frames()[1]\n",
    "    temp_df['id'] = player \n",
    "    gamelog_players_df = pd.concat([gamelog_players_df, temp_df], ignore_index = True)\n",
    "    \n",
    "gamelog_players_df.sample(5)"
   ]
  },
  {
   "cell_type": "code",
   "execution_count": null,
   "id": "088250b3",
   "metadata": {},
   "outputs": [],
   "source": [
    "# check if the data frame is actually pulling data from API\n",
    "gamelog_players_df.shape"
   ]
  },
  {
   "cell_type": "code",
   "execution_count": null,
   "id": "2a3c2aaf",
   "metadata": {},
   "outputs": [],
   "source": [
    "# Using bigger chunk now so that I won't get a timeout error\n",
    "for player in player_ids[100:500]:\n",
    "    gamelog_players = playerdashboardbyyearoveryear.PlayerDashboardByYearOverYear(player_id = player)\n",
    "    temp_df = gamelog_players.get_data_frames()[1]\n",
    "    temp_df['id'] = player \n",
    "    gamelog_players_df = pd.concat([gamelog_players_df, temp_df], ignore_index = True)\n",
    "    \n",
    "gamelog_players_df.sample(5)"
   ]
  },
  {
   "cell_type": "code",
   "execution_count": null,
   "id": "bc0aff06",
   "metadata": {},
   "outputs": [],
   "source": [
    "# checking shape\n",
    "gamelog_players_df.shape"
   ]
  },
  {
   "cell_type": "code",
   "execution_count": null,
   "id": "8380369e",
   "metadata": {},
   "outputs": [],
   "source": [
    "# pushing boundaries by using bigger chunks\n",
    "for player in player_ids[500:2000]:\n",
    "    gamelog_players = playerdashboardbyyearoveryear.PlayerDashboardByYearOverYear(player_id = player)\n",
    "    temp_df = gamelog_players.get_data_frames()[1]\n",
    "    temp_df['id'] = player \n",
    "    gamelog_players_df = pd.concat([gamelog_players_df, temp_df], ignore_index = True)\n",
    "    \n",
    "gamelog_players_df.tail(5)"
   ]
  },
  {
   "cell_type": "code",
   "execution_count": null,
   "id": "77c6b7d8",
   "metadata": {},
   "outputs": [],
   "source": [
    "# check to see if appending\n",
    "gamelog_players_df.shape"
   ]
  },
  {
   "cell_type": "code",
   "execution_count": null,
   "id": "c3f2b59d",
   "metadata": {},
   "outputs": [],
   "source": [
    "# checking chunks of 1500\n",
    "for player in player_ids[2000:3500]:\n",
    "    gamelog_players = playerdashboardbyyearoveryear.PlayerDashboardByYearOverYear(player_id = player)\n",
    "    temp_df = gamelog_players.get_data_frames()[1]\n",
    "    temp_df['id'] = player \n",
    "    gamelog_players_df = pd.concat([gamelog_players_df, temp_df], ignore_index = True)\n",
    "    \n",
    "gamelog_players_df.tail(5)"
   ]
  },
  {
   "cell_type": "code",
   "execution_count": null,
   "id": "243c45fe",
   "metadata": {},
   "outputs": [],
   "source": [
    "# checking data\n",
    "gamelog_players_df.shape"
   ]
  },
  {
   "cell_type": "code",
   "execution_count": null,
   "id": "6186fef4",
   "metadata": {},
   "outputs": [],
   "source": [
    "# last chunk of player ids \n",
    "for player in player_ids[3500:]:\n",
    "    gamelog_players = playerdashboardbyyearoveryear.PlayerDashboardByYearOverYear(player_id = player)\n",
    "    temp_df = gamelog_players.get_data_frames()[1]\n",
    "    temp_df['id'] = player \n",
    "    gamelog_players_df = pd.concat([gamelog_players_df, temp_df], ignore_index = True)\n",
    "    \n",
    "gamelog_players_df.tail(5)"
   ]
  },
  {
   "cell_type": "code",
   "execution_count": null,
   "id": "59afc33a",
   "metadata": {},
   "outputs": [],
   "source": [
    "# checking size of data set\n",
    "gamelog_players_df.shape"
   ]
  },
  {
   "cell_type": "code",
   "execution_count": null,
   "id": "08b85743",
   "metadata": {},
   "outputs": [],
   "source": [
    "# save the data into a csv so I won't have to keep pulling for API\n",
    "pwd = os.getcwd()\n",
    "save_file_path = os.path.join(pwd,'playerstatsbyseason.csv')\n",
    "gamelog_players_df.to_csv(save_file_path, index = False)"
   ]
  },
  {
   "cell_type": "code",
   "execution_count": null,
   "id": "d0f657a0",
   "metadata": {},
   "outputs": [],
   "source": [
    "# checking the types of the columns\n",
    "gamelog_players_df.dtypes"
   ]
  },
  {
   "cell_type": "code",
   "execution_count": null,
   "id": "489643d5",
   "metadata": {},
   "outputs": [],
   "source": [
    "# changing id into int so I can use .loc function for filtering\n",
    "gamelog_players_df[\"id\"] = gamelog_players_df[\"id\"].astype(str).astype(int)"
   ]
  },
  {
   "cell_type": "code",
   "execution_count": null,
   "id": "7c79bffd",
   "metadata": {},
   "outputs": [],
   "source": [
    "gamelog_players_df.dtypes"
   ]
  },
  {
   "cell_type": "code",
   "execution_count": null,
   "id": "3967f033",
   "metadata": {},
   "outputs": [],
   "source": [
    "# check how far back the gamelogs go\n",
    "gamelog_players_df['GROUP_VALUE'].unique()"
   ]
  },
  {
   "cell_type": "code",
   "execution_count": null,
   "id": "84606421",
   "metadata": {},
   "outputs": [],
   "source": [
    "# push data into our AWS for team to use\n",
    "from sqlalchemy import create_engine\n",
    "import psycopg2 \n",
    "import io\n",
    "from config import password\n",
    "\n",
    "DB_address = 'nbadb.ca9dadq6ltaa.us-east-2.rds.amazonaws.com'\n",
    "engine = create_engine(f'postgresql://team:{password}@{DB_address}:5432/NBA_database')\n",
    "gamelog_players_df.head(0).to_sql('playerstatsbyseason', engine, if_exists='replace',index=False) #drops old table and creates new empty table\n",
    "\n",
    "conn = engine.raw_connection()\n",
    "cur = conn.cursor()\n",
    "output = io.StringIO()\n",
    "gamelog_players_df.to_csv(save_file_path, header= False, index = False)\n",
    "output.seek(0)\n",
    "contents = output.getvalue()\n",
    "cur.copy_from(output, 'playerstatsbyseason', null=\"\") # null values become ''\n",
    "conn.commit()"
   ]
  },
  {
   "cell_type": "code",
   "execution_count": null,
   "id": "653a8a8f",
   "metadata": {},
   "outputs": [],
   "source": []
  }
 ],
 "metadata": {
  "kernelspec": {
   "display_name": "Python 3",
   "language": "python",
   "name": "python3"
  },
  "language_info": {
   "codemirror_mode": {
    "name": "ipython",
    "version": 3
   },
   "file_extension": ".py",
   "mimetype": "text/x-python",
   "name": "python",
   "nbconvert_exporter": "python",
   "pygments_lexer": "ipython3",
   "version": "3.8.8"
  }
 },
 "nbformat": 4,
 "nbformat_minor": 5
}
