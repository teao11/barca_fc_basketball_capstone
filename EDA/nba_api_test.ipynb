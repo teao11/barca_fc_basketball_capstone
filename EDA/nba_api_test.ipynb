{
 "cells": [
  {
   "cell_type": "code",
   "execution_count": null,
   "id": "5abef7fd",
   "metadata": {},
   "outputs": [],
   "source": [
    "# pip install nba_api"
   ]
  },
  {
   "cell_type": "code",
   "execution_count": null,
   "id": "425934a2",
   "metadata": {},
   "outputs": [],
   "source": [
    "# import dependencies\n",
    "import pandas as pd\n",
    "import nba_api\n",
    "import time\n",
    "from nba_api.stats.static import players, teams\n",
    "from nba_api.stats.endpoints import commonplayerinfo, teamgamelog, playercareerstats, playergamelog, leaguegamelog, leaguegamefinder\n",
    "from nba_api.stats.library.parameters import SeasonAll"
   ]
  },
  {
   "cell_type": "code",
   "execution_count": null,
   "id": "11297bc4",
   "metadata": {},
   "outputs": [],
   "source": [
    "# header statement necessary for API connection \n",
    "custom_headers = {\n",
    "    'Host': 'stats.nba.com',\n",
    "    'Connection': 'keep-alive',\n",
    "    'Cache-Control': 'max-age=0',\n",
    "    'Upgrade-Insecure-Requests': '1',\n",
    "    'User-Agent': 'Mozilla/5.0 (Macintosh; Intel Mac OS X 10_14_3) AppleWebKit/537.36 (KHTML, like Gecko) Chrome/73.0.3683.86 Safari/537.36',\n",
    "    'Accept': 'text/html,application/xhtml+xml,application/xml;q=0.9,image/webp,image/apng,*/*;q=0.8,application/signed-exchange;v=b3',\n",
    "    'Accept-Encoding': 'gzip, deflate, br',\n",
    "    'Accept-Language': 'en-US,en;q=0.9',\n",
    "}"
   ]
  },
  {
   "cell_type": "code",
   "execution_count": null,
   "id": "e9380b93",
   "metadata": {},
   "outputs": [],
   "source": [
    "# Get all players dictionary.\n",
    "all_players_dict = players.get_players()\n",
    "all_players_dict"
   ]
  },
  {
   "cell_type": "code",
   "execution_count": null,
   "id": "53211f35",
   "metadata": {},
   "outputs": [],
   "source": [
    "# flatten data aka melting JSON into data frame\n",
    "all_players_df = pd.json_normalize(all_players_dict)\n",
    "all_players_df"
   ]
  },
  {
   "cell_type": "code",
   "execution_count": null,
   "id": "15ee18ce",
   "metadata": {},
   "outputs": [],
   "source": [
    "# Get all teams.\n",
    "all_teams_dict = teams.get_teams()\n",
    "\n",
    "# flatten data\n",
    "all_teams_df = pd.json_normalize(all_teams_dict)"
   ]
  },
  {
   "cell_type": "code",
   "execution_count": null,
   "id": "776617e8",
   "metadata": {},
   "outputs": [],
   "source": [
    "all_teams_df.head()"
   ]
  },
  {
   "cell_type": "code",
   "execution_count": null,
   "id": "bfbe8efd",
   "metadata": {},
   "outputs": [],
   "source": [
    "# Search player using players full name\n",
    "bron = [player for player in all_players_dict if player['full_name'] == 'LeBron James'][0]\n",
    "bron"
   ]
  },
  {
   "cell_type": "code",
   "execution_count": null,
   "id": "bd5bbcb5",
   "metadata": {},
   "outputs": [],
   "source": [
    "# get player id so we can search using ID instead of name\n",
    "bron_id = str(bron['id'])\n",
    "bron_id"
   ]
  },
  {
   "cell_type": "code",
   "execution_count": null,
   "id": "9e42bbc5",
   "metadata": {},
   "outputs": [],
   "source": [
    "# Search team using team full name\n",
    "gsw = [team for team in all_teams_dict if team['full_name'] == \"Golden State Warriors\"][0]\n",
    "gsw"
   ]
  },
  {
   "cell_type": "code",
   "execution_count": null,
   "id": "7a08afa0",
   "metadata": {},
   "outputs": [],
   "source": [
    "# Access team id from Dictionary\n",
    "gsw_id = gsw['id']\n",
    "gsw_id"
   ]
  },
  {
   "cell_type": "code",
   "execution_count": null,
   "id": "7dbd62e0",
   "metadata": {},
   "outputs": [],
   "source": [
    "# use player game log to see all of players stats game by game\n",
    "gamelog_bron = playergamelog.PlayerGameLog(player_id=bron_id, season = SeasonAll.all)\n",
    "gamelog_bron"
   ]
  },
  {
   "cell_type": "code",
   "execution_count": null,
   "id": "8a2bb72b",
   "metadata": {
    "scrolled": true
   },
   "outputs": [],
   "source": [
    "# Access the JSON and turn into a dataframe\n",
    "gamelog_bron_df = gamelog_bron.get_data_frames()[0]\n",
    "gamelog_bron_df"
   ]
  },
  {
   "cell_type": "code",
   "execution_count": null,
   "id": "803d7679",
   "metadata": {},
   "outputs": [],
   "source": [
    "# get all of player IDs\n",
    "player_ids = [player_id['id'] for player_id in all_players_dict]\n",
    "print(player_ids)"
   ]
  },
  {
   "cell_type": "code",
   "execution_count": null,
   "id": "49e0f9ee",
   "metadata": {},
   "outputs": [],
   "source": [
    "# Create a while true loop to keep finding players. Use time.sleep to break up the spamming of the API\n",
    "# all_gamelogs = [playergamelog.PlayerGameLog(player_id = ids) for ids in player_ids]\n",
    "all_gamelogs =[]\n",
    "for ids in player_ids:\n",
    "    while True:\n",
    "        try:\n",
    "            gamelogs = playergamelog.PlayerGameLog(player_id = ids)\n",
    "            all_gamelogs.append(gamelogs)\n",
    "            time.sleep(0.1)\n",
    "        except: \n",
    "            continue\n",
    "        break"
   ]
  },
  {
   "cell_type": "code",
   "execution_count": null,
   "id": "24b6641d",
   "metadata": {},
   "outputs": [],
   "source": [
    "# get all of the GSW games \n",
    "GSW_games = leaguegamefinder.LeagueGameFinder(team_id_nullable=gsw_id).get_data_frames()[0]\n",
    "GSW_games.head()"
   ]
  },
  {
   "cell_type": "code",
   "execution_count": null,
   "id": "1bbd4bc9",
   "metadata": {},
   "outputs": [],
   "source": []
  }
 ],
 "metadata": {
  "kernelspec": {
   "display_name": "Python 3",
   "language": "python",
   "name": "python3"
  },
  "language_info": {
   "codemirror_mode": {
    "name": "ipython",
    "version": 3
   },
   "file_extension": ".py",
   "mimetype": "text/x-python",
   "name": "python",
   "nbconvert_exporter": "python",
   "pygments_lexer": "ipython3",
   "version": "3.8.8"
  }
 },
 "nbformat": 4,
 "nbformat_minor": 5
}
