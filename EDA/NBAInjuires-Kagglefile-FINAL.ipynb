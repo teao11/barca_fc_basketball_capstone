{
 "cells": [
  {
   "cell_type": "code",
   "execution_count": null,
   "metadata": {},
   "outputs": [],
   "source": [
    "import numpy as np\n",
    "import pandas as pd\n",
    "import sqlite3 as sql"
   ]
  },
  {
   "cell_type": "code",
   "execution_count": null,
   "metadata": {},
   "outputs": [],
   "source": [
    "# connect to SQLite database\n",
    "db_path = \"../DataTables/basketball.sqlite\"\n",
    "connection = sql.connect(db_path) # create connection object to database\n",
    "table = pd.read_sql_query(\"SELECT name FROM sqlite_master WHERE type='table'\", connection)\n",
    "print(table)"
   ]
  },
  {
   "cell_type": "code",
   "execution_count": null,
   "metadata": {},
   "outputs": [],
   "source": [
    "biosQ = \"\"\"SELECT * FROM 'Player_Attributes'\"\"\"\n",
    "\n",
    "bios_df = pd.read_sql(biosQ, connection)\n",
    "bios_df.tail()"
   ]
  },
  {
   "cell_type": "code",
   "execution_count": null,
   "metadata": {},
   "outputs": [],
   "source": [
    "injuries_df = pd.read_csv('../DataTables/Injuries - KAggle.csv')\n",
    "injuries_df.head()"
   ]
  },
  {
   "cell_type": "code",
   "execution_count": null,
   "metadata": {},
   "outputs": [],
   "source": [
    "injuries_df[\"Key\"] = injuries_df[\"Key\"].str.replace(\".\",\"\")\n",
    "injuries_df[\"Relinquished\"] = injuries_df[\"Relinquished\"].str.replace(\".\",\"\")\n",
    "injuries_df.head()"
   ]
  },
  {
   "cell_type": "code",
   "execution_count": null,
   "metadata": {},
   "outputs": [],
   "source": [
    "injuries_pivot = pd.pivot_table(injuries_df, values='Notes', index=['Key', 'Team','Relinquished'],\n",
    "                    aggfunc='count')\n",
    "injuries_pivot.head()"
   ]
  },
  {
   "cell_type": "code",
   "execution_count": null,
   "metadata": {},
   "outputs": [],
   "source": [
    "injuries_pivot.reset_index(inplace=True)"
   ]
  },
  {
   "cell_type": "code",
   "execution_count": null,
   "metadata": {},
   "outputs": [],
   "source": [
    "injuries_pivot.head()"
   ]
  },
  {
   "cell_type": "code",
   "execution_count": null,
   "metadata": {},
   "outputs": [],
   "source": [
    "team_Q = \"\"\"SELECT * FROM 'Team'\"\"\"\n",
    "\n",
    "teams_df = pd.read_sql(team_Q, connection)\n",
    "teams_df.head()"
   ]
  },
  {
   "cell_type": "code",
   "execution_count": null,
   "metadata": {},
   "outputs": [],
   "source": [
    "teams_df.columns"
   ]
  },
  {
   "cell_type": "code",
   "execution_count": null,
   "metadata": {},
   "outputs": [],
   "source": [
    "injuries_team=pd.merge(injuries_pivot,teams_df[['id','full_name','abbreviation','nickname']],how=\"left\",left_on='Team',right_on='nickname').fillna(np.nan)\n",
    "injuries_team.head()"
   ]
  },
  {
   "cell_type": "code",
   "execution_count": null,
   "metadata": {},
   "outputs": [],
   "source": [
    "injuries_pivot.shape"
   ]
  },
  {
   "cell_type": "code",
   "execution_count": null,
   "metadata": {},
   "outputs": [],
   "source": [
    "injuries_team.shape"
   ]
  },
  {
   "cell_type": "code",
   "execution_count": null,
   "metadata": {},
   "outputs": [],
   "source": [
    "injuries_team=injuries_team.drop(['Team','nickname'],axis=1)"
   ]
  },
  {
   "cell_type": "code",
   "execution_count": null,
   "metadata": {},
   "outputs": [],
   "source": [
    "injuries_team.head()"
   ]
  },
  {
   "cell_type": "code",
   "execution_count": null,
   "metadata": {},
   "outputs": [],
   "source": [
    "injuries_team[\"NewKey\"]=injuries_team[\"Key\"]+injuries_team[\"abbreviation\"]\n",
    "injuries_team.head()"
   ]
  },
  {
   "cell_type": "code",
   "execution_count": null,
   "metadata": {},
   "outputs": [],
   "source": [
    "injuries_team=injuries_team.drop(['Key'],axis=1)\n",
    "injuries_team.head()"
   ]
  },
  {
   "cell_type": "code",
   "execution_count": null,
   "metadata": {},
   "outputs": [],
   "source": [
    "injuries_team=injuries_team.rename(columns={\"Relinquished\": \"Player\", \"Notes\": \"Injuries\",\"full_name\":\"TeamName\",\"abbreviation\":\"TeamCode\",\n",
    "                             \"NewKey\":\"Key\",\"id\": \"TeamId\"})\n",
    "injuries_team.head()"
   ]
  },
  {
   "cell_type": "code",
   "execution_count": null,
   "metadata": {},
   "outputs": [],
   "source": [
    "injuries_team['DraftYear']=np.nan\n",
    "injuries_team.head()"
   ]
  },
  {
   "cell_type": "code",
   "execution_count": null,
   "metadata": {},
   "outputs": [],
   "source": [
    "# capturing Injury year from key\n",
    "injuries_team['DraftYear'] = injuries_team['Key'].str[:4]\n",
    "injuries_team.head()    "
   ]
  },
  {
   "cell_type": "code",
   "execution_count": null,
   "metadata": {},
   "outputs": [],
   "source": [
    "playersQ = \"\"\"SELECT * FROM 'Player'\"\"\"\n",
    "\n",
    "players_df = pd.read_sql(playersQ, connection)\n",
    "players_df.head()"
   ]
  },
  {
   "cell_type": "code",
   "execution_count": null,
   "metadata": {},
   "outputs": [],
   "source": [
    "injuries_team_player = injuries_team.merge(players_df[['id','full_name']],how='left',left_on='Player',right_on='full_name').fillna(np.nan)\n",
    "injuries_team_player.head()"
   ]
  },
  {
   "cell_type": "code",
   "execution_count": null,
   "metadata": {},
   "outputs": [],
   "source": [
    "injuries_team_player.shape"
   ]
  },
  {
   "cell_type": "code",
   "execution_count": null,
   "metadata": {},
   "outputs": [],
   "source": [
    "injuries_team_player=injuries_team_player.drop(['full_name'],axis=1)\n",
    "injuries_team_player=injuries_team_player.rename(columns={\"id\": \"PlayerId\"})"
   ]
  },
  {
   "cell_type": "code",
   "execution_count": null,
   "metadata": {},
   "outputs": [],
   "source": [
    "injuries_team_player=injuries_team_player.drop(['Key'],axis=1)"
   ]
  },
  {
   "cell_type": "code",
   "execution_count": null,
   "metadata": {},
   "outputs": [],
   "source": [
    "injuries_team_player.head()"
   ]
  },
  {
   "cell_type": "markdown",
   "metadata": {},
   "source": [
    "## Bring in All Seasons data to get points"
   ]
  },
  {
   "cell_type": "code",
   "execution_count": null,
   "metadata": {},
   "outputs": [],
   "source": [
    "seasons_df = pd.read_csv('../DataTables/AllSeasons.csv')\n",
    "seasons_df.head()"
   ]
  },
  {
   "cell_type": "code",
   "execution_count": null,
   "metadata": {},
   "outputs": [],
   "source": [
    "seasons_df[\"player_name\"] = seasons_df[\"player_name\"].str.replace(\".\",\"\")"
   ]
  },
  {
   "cell_type": "code",
   "execution_count": null,
   "metadata": {},
   "outputs": [],
   "source": [
    "seasons_df_clean = seasons_df[seasons_df['draft_year'] != 'Undrafted']\n",
    "seasons_df_clean.head()"
   ]
  },
  {
   "cell_type": "code",
   "execution_count": null,
   "metadata": {},
   "outputs": [],
   "source": [
    "seasons_df_clean = seasons_df_clean[seasons_df_clean['draft_year'] >= 2010]\n",
    "seasons_df_clean.head()"
   ]
  },
  {
   "cell_type": "code",
   "execution_count": null,
   "metadata": {},
   "outputs": [],
   "source": [
    "seasons_df_clean['draft_year'] = seasons_df_clean['draft_year'].astype(str)"
   ]
  },
  {
   "cell_type": "code",
   "execution_count": null,
   "metadata": {},
   "outputs": [],
   "source": [
    "max(seasons_df_clean['draft_year'])"
   ]
  },
  {
   "cell_type": "code",
   "execution_count": null,
   "metadata": {
    "scrolled": true
   },
   "outputs": [],
   "source": [
    "seasons_df_clean['Key']= seasons_df_clean['player_name'] + seasons_df_clean['team_abbreviation']+seasons_df_clean['draft_year']\n",
    "seasons_df_clean.head()"
   ]
  },
  {
   "cell_type": "code",
   "execution_count": null,
   "metadata": {},
   "outputs": [],
   "source": [
    "injuries_team_player['Key'] = injuries_team_player['Player']+injuries_team_player['TeamCode']+injuries_team_player['DraftYear']\n",
    "injuries_team_player.head()"
   ]
  },
  {
   "cell_type": "code",
   "execution_count": null,
   "metadata": {},
   "outputs": [],
   "source": [
    "seasons_df_clean.columns"
   ]
  },
  {
   "cell_type": "code",
   "execution_count": null,
   "metadata": {},
   "outputs": [],
   "source": [
    "injuries_team_player.columns"
   ]
  },
  {
   "cell_type": "code",
   "execution_count": null,
   "metadata": {},
   "outputs": [],
   "source": [
    "injuries_points = seasons_df_clean.merge(injuries_team_player[['Key','Injuries','PlayerId','TeamId']],how='left',on='Key').fillna(0)"
   ]
  },
  {
   "cell_type": "code",
   "execution_count": null,
   "metadata": {},
   "outputs": [],
   "source": [
    "injuries_points.shape"
   ]
  },
  {
   "cell_type": "code",
   "execution_count": null,
   "metadata": {},
   "outputs": [],
   "source": [
    "injuries_points.head()"
   ]
  },
  {
   "cell_type": "code",
   "execution_count": null,
   "metadata": {},
   "outputs": [],
   "source": [
    "injuries_points.columns"
   ]
  },
  {
   "cell_type": "code",
   "execution_count": null,
   "metadata": {},
   "outputs": [],
   "source": [
    "injuries_points=injuries_points.drop(['age', 'player_height', 'player_weight','college', 'country',\n",
    "                       'draft_round','draft_number', 'net_rating', 'oreb_pct',\n",
    "                       'dreb_pct', 'usg_pct', 'ts_pct', 'ast_pct', 'season'],axis=1)"
   ]
  },
  {
   "cell_type": "code",
   "execution_count": null,
   "metadata": {},
   "outputs": [],
   "source": [
    "injuries_points.head()"
   ]
  },
  {
   "cell_type": "code",
   "execution_count": null,
   "metadata": {},
   "outputs": [],
   "source": [
    "injuries_points.shape"
   ]
  },
  {
   "cell_type": "code",
   "execution_count": null,
   "metadata": {},
   "outputs": [],
   "source": [
    "seasons_df_clean[seasons_df_clean['Key']=='Maurice EvansWAS2010']"
   ]
  },
  {
   "cell_type": "markdown",
   "metadata": {},
   "source": [
    "## Update playerID and Team ID for missing ones"
   ]
  },
  {
   "cell_type": "code",
   "execution_count": null,
   "metadata": {},
   "outputs": [],
   "source": [
    "players_Q = \"\"\"SELECT * FROM 'Player'\"\"\"\n",
    "\n",
    "players_df = pd.read_sql(players_Q, connection)\n",
    "players_df.head()"
   ]
  },
  {
   "cell_type": "code",
   "execution_count": null,
   "metadata": {},
   "outputs": [],
   "source": [
    "players_df[\"full_name\"] = players_df[\"full_name\"].str.replace(\".\",\"\")"
   ]
  },
  {
   "cell_type": "code",
   "execution_count": null,
   "metadata": {},
   "outputs": [],
   "source": [
    "players_df = players_df[players_df['id'].map(len)>=4]\n",
    "players_df.head()"
   ]
  },
  {
   "cell_type": "code",
   "execution_count": null,
   "metadata": {},
   "outputs": [],
   "source": [
    "players_df2=players_df[(players_df.duplicated(subset = ['full_name'])==True)]\n",
    "players_df2.head()"
   ]
  },
  {
   "cell_type": "code",
   "execution_count": null,
   "metadata": {},
   "outputs": [],
   "source": [
    "#players_df.to_csv('../DataTables/tokeep.csv',index=False)\n",
    "players_df2.to_csv('../DataTables/todelete.csv',index=False)"
   ]
  },
  {
   "cell_type": "code",
   "execution_count": null,
   "metadata": {},
   "outputs": [],
   "source": [
    "#removed the duplicate players from the 2st file based on the 2nd file\n",
    "players_df=pd.read_csv('../DataTables/tokeep.csv')\n",
    "players_df.shape"
   ]
  },
  {
   "cell_type": "code",
   "execution_count": null,
   "metadata": {},
   "outputs": [],
   "source": [
    "player_injuries=injuries_points.merge(players_df[['full_name','id']],how='left',left_on='player_name',right_on='full_name').fillna(np.nan)\n",
    "player_injuries.head()"
   ]
  },
  {
   "cell_type": "code",
   "execution_count": null,
   "metadata": {},
   "outputs": [],
   "source": [
    "player_injuries.shape"
   ]
  },
  {
   "cell_type": "code",
   "execution_count": null,
   "metadata": {},
   "outputs": [],
   "source": [
    "injuries_points.shape"
   ]
  },
  {
   "cell_type": "code",
   "execution_count": null,
   "metadata": {},
   "outputs": [],
   "source": [
    "player_injuries.head()"
   ]
  },
  {
   "cell_type": "code",
   "execution_count": null,
   "metadata": {},
   "outputs": [],
   "source": [
    "#drop full name and delete playerID with blank id, and then rename id to player id\n",
    "clean_injuries1=player_injuries.drop(['full_name','PlayerId'],axis=1)\n",
    "clean_injuries2=clean_injuries1.rename(columns = {'id':'PlayerId'})\n",
    "clean_injuries2['PlayerId']=clean_injuries2['PlayerId'].astype(str)\n",
    "clean_injuries2['PlayerId']=clean_injuries2['PlayerId'].str.replace(\"\\.0\",\"\")\n",
    "clean_injuries2.head()"
   ]
  },
  {
   "cell_type": "code",
   "execution_count": null,
   "metadata": {},
   "outputs": [],
   "source": [
    "clean_injuries2.shape"
   ]
  },
  {
   "cell_type": "code",
   "execution_count": null,
   "metadata": {},
   "outputs": [],
   "source": [
    "teams_df.head()"
   ]
  },
  {
   "cell_type": "code",
   "execution_count": null,
   "metadata": {},
   "outputs": [],
   "source": [
    "clean_injuries=clean_injuries2.merge(teams_df[['id','abbreviation']],how=\"left\",left_on='team_abbreviation',right_on='abbreviation')\n",
    "clean_injuries.shape"
   ]
  },
  {
   "cell_type": "code",
   "execution_count": null,
   "metadata": {},
   "outputs": [],
   "source": [
    "clean_injuries.head()"
   ]
  },
  {
   "cell_type": "code",
   "execution_count": null,
   "metadata": {},
   "outputs": [],
   "source": [
    "clean_injuries=clean_injuries.drop(['abbreviation','TeamId'],axis=1)\n",
    "clean_injuries=clean_injuries.rename(columns = {'id':'TeamId'})\n",
    "clean_injuries.head()"
   ]
  },
  {
   "cell_type": "code",
   "execution_count": null,
   "metadata": {},
   "outputs": [],
   "source": [
    "clean_injuries.shape"
   ]
  },
  {
   "cell_type": "code",
   "execution_count": null,
   "metadata": {},
   "outputs": [],
   "source": [
    "min(clean_injuries['draft_year'])"
   ]
  },
  {
   "cell_type": "code",
   "execution_count": null,
   "metadata": {},
   "outputs": [],
   "source": [
    "max(clean_injuries['draft_year'])"
   ]
  },
  {
   "cell_type": "markdown",
   "metadata": {},
   "source": [
    "## Get birthdate from player attributes table"
   ]
  },
  {
   "cell_type": "code",
   "execution_count": null,
   "metadata": {},
   "outputs": [],
   "source": [
    "playersAttr_Q = \"\"\"SELECT * FROM 'Player_Attributes'\"\"\"\n",
    "\n",
    "playersAttr_df = pd.read_sql(playersAttr_Q, connection)\n",
    "playersAttr_df.head()"
   ]
  },
  {
   "cell_type": "code",
   "execution_count": null,
   "metadata": {},
   "outputs": [],
   "source": [
    "playersAttr_df.dtypes"
   ]
  },
  {
   "cell_type": "code",
   "execution_count": null,
   "metadata": {},
   "outputs": [],
   "source": [
    "injuries_all_up=clean_injuries.merge(playersAttr_df[['ID','BIRTHDATE']],how=\"left\",left_on='PlayerId',right_on='ID')\n",
    "injuries_all_up.shape"
   ]
  },
  {
   "cell_type": "code",
   "execution_count": null,
   "metadata": {},
   "outputs": [],
   "source": [
    "injuries_all_up.head()"
   ]
  },
  {
   "cell_type": "code",
   "execution_count": null,
   "metadata": {},
   "outputs": [],
   "source": [
    "injuries_all_up['BIRTHDATE']=pd.to_datetime(injuries_all_up['BIRTHDATE'])\n",
    "injuries_all_up.dtypes"
   ]
  },
  {
   "cell_type": "code",
   "execution_count": null,
   "metadata": {},
   "outputs": [],
   "source": [
    "from datetime import date\n",
    "def calculateAge(birthDate):\n",
    "    today = date.today()\n",
    "    age = today.year - birthDate.year -((today.month, today.day) < (birthDate.month, birthDate.day))\n",
    " \n",
    "    return age"
   ]
  },
  {
   "cell_type": "code",
   "execution_count": null,
   "metadata": {},
   "outputs": [],
   "source": [
    "for i,row in injuries_all_up.iterrows():\n",
    "    age=calculateAge(row['BIRTHDATE'])\n",
    "    injuries_all_up.loc[i,'Age']=age"
   ]
  },
  {
   "cell_type": "code",
   "execution_count": null,
   "metadata": {},
   "outputs": [],
   "source": [
    "injuries_all_up.head()"
   ]
  },
  {
   "cell_type": "code",
   "execution_count": null,
   "metadata": {},
   "outputs": [],
   "source": [
    "injuries_all_up.shape"
   ]
  },
  {
   "cell_type": "code",
   "execution_count": null,
   "metadata": {},
   "outputs": [],
   "source": [
    "injuries_all_up.drop(['ID'],axis=1)"
   ]
  },
  {
   "cell_type": "code",
   "execution_count": null,
   "metadata": {},
   "outputs": [],
   "source": [
    "injuries_all_up.to_csv(\"../DataTables/Injuries2010-2020.csv\")"
   ]
  },
  {
   "cell_type": "markdown",
   "metadata": {},
   "source": [
    "## code to update the missing birthdays"
   ]
  },
  {
   "cell_type": "code",
   "execution_count": null,
   "metadata": {},
   "outputs": [],
   "source": [
    "injuries_all_up.head()"
   ]
  },
  {
   "cell_type": "code",
   "execution_count": null,
   "metadata": {},
   "outputs": [],
   "source": [
    "bday_miss=injuries_all_up[injuries_all_up['BIRTHDATE'].isnull()]\n",
    "bday_miss.head()"
   ]
  },
  {
   "cell_type": "code",
   "execution_count": null,
   "metadata": {},
   "outputs": [],
   "source": [
    "playersAttr_df.columns"
   ]
  },
  {
   "cell_type": "code",
   "execution_count": null,
   "metadata": {},
   "outputs": [],
   "source": [
    "bday_update = bday_miss.merge(playersAttr_df[['ID','DISPLAY_FIRST_LAST','BIRTHDATE']],how=\"left\",left_on='player_name',right_on='DISPLAY_FIRST_LAST')\n",
    "bday_update"
   ]
  },
  {
   "cell_type": "code",
   "execution_count": null,
   "metadata": {},
   "outputs": [],
   "source": [
    "bday_update['ID_x'].isna().sum()"
   ]
  },
  {
   "cell_type": "code",
   "execution_count": null,
   "metadata": {},
   "outputs": [],
   "source": [
    "bday_update.count()"
   ]
  },
  {
   "cell_type": "code",
   "execution_count": null,
   "metadata": {},
   "outputs": [],
   "source": [
    "bday_update=bday_update.drop(['PlayerId','DISPLAY_FIRST_LAST','ID_x','BIRTHDATE_x'],axis=1)"
   ]
  },
  {
   "cell_type": "code",
   "execution_count": null,
   "metadata": {},
   "outputs": [],
   "source": [
    "bday_update.head()"
   ]
  },
  {
   "cell_type": "code",
   "execution_count": null,
   "metadata": {},
   "outputs": [],
   "source": [
    "bday_update=bday_update.rename(columns = {'ID_y':'PlayerId','BIRTHDATE_y':'BIRTHDATE'})"
   ]
  },
  {
   "cell_type": "code",
   "execution_count": null,
   "metadata": {},
   "outputs": [],
   "source": [
    "bday_update[bday_update['PlayerId'].isnull()]"
   ]
  },
  {
   "cell_type": "code",
   "execution_count": null,
   "metadata": {},
   "outputs": [],
   "source": [
    "playersAttr_df[playersAttr_df['DISPLAY_FIRST_LAST']=='Charlie Brown Jr']"
   ]
  },
  {
   "cell_type": "code",
   "execution_count": null,
   "metadata": {},
   "outputs": [],
   "source": [
    "bday_update.loc[bday_update['player_name']=='Danuel House','PlayerId']='1627863'"
   ]
  },
  {
   "cell_type": "code",
   "execution_count": null,
   "metadata": {},
   "outputs": [],
   "source": [
    "bday_update[bday_update['player_name']=='Marcus Morris']"
   ]
  },
  {
   "cell_type": "code",
   "execution_count": null,
   "metadata": {},
   "outputs": [],
   "source": [
    "bday_update.loc[bday_update['PlayerId']=='1627863','BIRTHDATE_y']='1993-06-07T00:00:00'"
   ]
  },
  {
   "cell_type": "code",
   "execution_count": null,
   "metadata": {},
   "outputs": [],
   "source": [
    "null_players = pd.read_csv('../DataTables/NullPlayers.csv')\n",
    "null_players"
   ]
  },
  {
   "cell_type": "code",
   "execution_count": null,
   "metadata": {},
   "outputs": [],
   "source": [
    "bday_update=bday_update[bday_update['BIRTHDATE'].isnull()]\n",
    "bday_update.head()"
   ]
  },
  {
   "cell_type": "code",
   "execution_count": null,
   "metadata": {},
   "outputs": [],
   "source": [
    "bday_update = bday_update.merge(null_players[['player_name','BIRTHDATE']],how=\"left\",left_on='player_name',right_on='player_name')\n",
    "bday_update.tail()"
   ]
  },
  {
   "cell_type": "code",
   "execution_count": null,
   "metadata": {},
   "outputs": [],
   "source": [
    "bday_update=bday_update.drop(['BIRTHDATE_x'],axis=1)\n",
    "bday_update.head()"
   ]
  },
  {
   "cell_type": "code",
   "execution_count": null,
   "metadata": {},
   "outputs": [],
   "source": [
    "bday_update.shape"
   ]
  },
  {
   "cell_type": "code",
   "execution_count": null,
   "metadata": {},
   "outputs": [],
   "source": [
    "bday_update=bday_update.drop(['team_abbreviation_x', 'draft_year_x', 'gp_x', 'pts_x',\n",
    "       'reb_x', 'ast_x', 'Key_x', 'Injuries_x', 'TeamId_x', 'PlayerId_x',\n",
    "       'BIRTHDATE_x'],axis=1)\n",
    "bday_update"
   ]
  },
  {
   "cell_type": "code",
   "execution_count": null,
   "metadata": {},
   "outputs": [],
   "source": [
    "bday_update.head()"
   ]
  },
  {
   "cell_type": "code",
   "execution_count": null,
   "metadata": {},
   "outputs": [],
   "source": [
    "bday_update=bday_update.rename(columns = {'BIRTHDATE_y':'BIRTHDATE'})"
   ]
  },
  {
   "cell_type": "code",
   "execution_count": null,
   "metadata": {},
   "outputs": [],
   "source": [
    "injuries_all_up.columns"
   ]
  },
  {
   "cell_type": "code",
   "execution_count": null,
   "metadata": {},
   "outputs": [],
   "source": [
    "injuries_all_up2.shape"
   ]
  },
  {
   "cell_type": "code",
   "execution_count": null,
   "metadata": {},
   "outputs": [],
   "source": [
    "injuries_all_up2 = injuries_all_up.merge(bday_update[['Key','PlayerId','BIRTHDATE']],how='left',on='Key')\n",
    "injuries_all_up2.head()"
   ]
  },
  {
   "cell_type": "code",
   "execution_count": null,
   "metadata": {},
   "outputs": [],
   "source": [
    "for i,row in injuries_all_up2.iterrows():\n",
    "    if row['PlayerId_x']=='nan':\n",
    "        pid = row['PlayerId_y']\n",
    "        injuries_all_up2.loc[i,'PlayerId_x']=pid\n",
    "        \n",
    "   # if pd.isnull(row['BIRTHDATE_x']):\n",
    "   #     bday = row['BIRTHDATE_y']\n",
    "   #     injuries_all_up2.loc[i,'BIRTHDATE_x']=bday\n",
    "\n",
    "injuries_all_up2.head()"
   ]
  },
  {
   "cell_type": "code",
   "execution_count": null,
   "metadata": {},
   "outputs": [],
   "source": [
    "null_b=injuries_all_up2[injuries_all_up2['BIRTHDATE_x'].isnull()]"
   ]
  },
  {
   "cell_type": "code",
   "execution_count": null,
   "metadata": {},
   "outputs": [],
   "source": [
    "null_b.to_csv('../DataTables/nullbirthdays.csv',index=False)"
   ]
  },
  {
   "cell_type": "code",
   "execution_count": null,
   "metadata": {},
   "outputs": [],
   "source": [
    "playersAttr_df[playersAttr_df['DISPLAY_FIRST_LAST']=='Michael Frazier II']"
   ]
  },
  {
   "cell_type": "code",
   "execution_count": null,
   "metadata": {},
   "outputs": [],
   "source": [
    "null_b=null_b.merge(playersAttr_df[['ID','DISPLAY_FIRST_LAST','BIRTHDATE']],how=\"left\",left_on='player_name',right_on='DISPLAY_FIRST_LAST')\n",
    "null_b.head()"
   ]
  },
  {
   "cell_type": "code",
   "execution_count": null,
   "metadata": {},
   "outputs": [],
   "source": [
    "null_b.columns"
   ]
  },
  {
   "cell_type": "code",
   "execution_count": null,
   "metadata": {},
   "outputs": [],
   "source": [
    "null_b=null_b.drop(['BIRTHDATE_x','DISPLAY_FIRST_LAST'],axis=1)"
   ]
  },
  {
   "cell_type": "code",
   "execution_count": null,
   "metadata": {},
   "outputs": [],
   "source": [
    "null_b.head()"
   ]
  },
  {
   "cell_type": "code",
   "execution_count": null,
   "metadata": {},
   "outputs": [],
   "source": [
    "null_b[null_b['ID_x'].notnull()]"
   ]
  },
  {
   "cell_type": "code",
   "execution_count": null,
   "metadata": {},
   "outputs": [],
   "source": [
    "null_b.isna().sum()"
   ]
  },
  {
   "cell_type": "code",
   "execution_count": null,
   "metadata": {},
   "outputs": [],
   "source": [
    "null_b=null_b.drop(['PlayerId_x','ID_x','PlayerId_y','BIRTHDATE_y','Age'],axis=1)"
   ]
  },
  {
   "cell_type": "code",
   "execution_count": null,
   "metadata": {},
   "outputs": [],
   "source": [
    "injuries_all_up3=injuries_all_up2.merge(null_b[['Key','BIRTHDATE','ID_y']],how='left',on='Key')\n",
    "injuries_all_up3.head()"
   ]
  },
  {
   "cell_type": "code",
   "execution_count": null,
   "metadata": {},
   "outputs": [],
   "source": [
    "injuries_all_up3.isna().sum()"
   ]
  },
  {
   "cell_type": "code",
   "execution_count": null,
   "metadata": {},
   "outputs": [],
   "source": [
    "injuries_all_up3.shape"
   ]
  },
  {
   "cell_type": "code",
   "execution_count": null,
   "metadata": {},
   "outputs": [],
   "source": [
    "injuries_all_up3.to_csv('../DataTables/Injuries_all_up.csv',index=True)"
   ]
  },
  {
   "cell_type": "markdown",
   "metadata": {},
   "source": [
    "## Did some final clean-up in excel and renamed the file to 'Games and injuries stats-2010-2020.csv'"
   ]
  },
  {
   "cell_type": "code",
   "execution_count": null,
   "metadata": {},
   "outputs": [],
   "source": []
  }
 ],
 "metadata": {
  "kernelspec": {
   "display_name": "Python 3",
   "language": "python",
   "name": "python3"
  },
  "language_info": {
   "codemirror_mode": {
    "name": "ipython",
    "version": 3
   },
   "file_extension": ".py",
   "mimetype": "text/x-python",
   "name": "python",
   "nbconvert_exporter": "python",
   "pygments_lexer": "ipython3",
   "version": "3.8.5"
  }
 },
 "nbformat": 4,
 "nbformat_minor": 5
}
