{
 "cells": [
  {
   "cell_type": "code",
   "execution_count": null,
   "id": "5e3c8886",
   "metadata": {},
   "outputs": [],
   "source": [
    "import os\n",
    "import pandas as pd\n",
    "import re\n",
    "import numpy as np"
   ]
  },
  {
   "cell_type": "code",
   "execution_count": null,
   "id": "bb1d4537",
   "metadata": {},
   "outputs": [],
   "source": [
    "# Load old salaries\n",
    "pwd = os.getcwd()\n",
    "old_salaries = os.path.join(pwd, 'Resources', 'salaries', 'salaries_1985to2018.csv')\n",
    "old_salaries_df = pd.read_csv(old_salaries)"
   ]
  },
  {
   "cell_type": "code",
   "execution_count": null,
   "id": "61906685",
   "metadata": {},
   "outputs": [],
   "source": [
    "# load new salaries\n",
    "new_salaries = os.path.join(pwd, 'Resources', 'salaries', '1999-2022 Salaries.csv')\n",
    "new_salaries_df = pd.read_csv(new_salaries)"
   ]
  },
  {
   "cell_type": "code",
   "execution_count": null,
   "id": "ce06530c",
   "metadata": {},
   "outputs": [],
   "source": [
    "# load player data\n",
    "players = os.path.join(pwd, 'Resources', 'salaries', 'players.csv')\n",
    "players_df = pd.read_csv(players)"
   ]
  },
  {
   "cell_type": "code",
   "execution_count": null,
   "id": "245f1578",
   "metadata": {},
   "outputs": [],
   "source": [
    "# get old salaries row count\n",
    "print(old_salaries_df.shape)\n",
    "old_salaries_df.head()"
   ]
  },
  {
   "cell_type": "code",
   "execution_count": null,
   "id": "9bb55b69",
   "metadata": {},
   "outputs": [],
   "source": [
    "# check to see what needs to be combined\n",
    "new_salaries_df.head()"
   ]
  },
  {
   "cell_type": "code",
   "execution_count": null,
   "id": "b7bdd8b1",
   "metadata": {},
   "outputs": [],
   "source": [
    "# check the column names\n",
    "players_df.head()"
   ]
  },
  {
   "cell_type": "code",
   "execution_count": null,
   "id": "90722931",
   "metadata": {},
   "outputs": [],
   "source": [
    "# Clean the old salaries so we can merge on the player id\n",
    "# Drop the league column\n",
    "old_salaries_df.drop(columns = 'league', inplace = True)\n",
    "\n",
    "# Change the columns so that everything will be lowered cased and reorganized \n",
    "# we want to see player id, team, salary, season info\n",
    "old_salaries_df.rename(columns = {\"player_id\": \"_id\"}, inplace=True)\n",
    "new_col = ['_id', 'team', 'salary', 'season', 'season_end', 'season_start']\n",
    "old_salaries_df = old_salaries_df[new_col]"
   ]
  },
  {
   "cell_type": "code",
   "execution_count": null,
   "id": "5e1156c0",
   "metadata": {},
   "outputs": [],
   "source": [
    "# check old salaries columns\n",
    "old_salaries_df"
   ]
  },
  {
   "cell_type": "code",
   "execution_count": null,
   "id": "de027a99",
   "metadata": {},
   "outputs": [],
   "source": [
    "# merge players and old salaries\n",
    "merged_df = pd.merge(players_df, old_salaries_df, how= \"right\", on=\"_id\")"
   ]
  },
  {
   "cell_type": "code",
   "execution_count": null,
   "id": "1801fb87",
   "metadata": {},
   "outputs": [],
   "source": [
    "print(merged_df.shape)\n",
    "merged_df.sample(10)"
   ]
  },
  {
   "cell_type": "code",
   "execution_count": null,
   "id": "171bfa07",
   "metadata": {},
   "outputs": [],
   "source": [
    "# check to see if columns merged successfuly \n",
    "merged_df.columns.tolist()"
   ]
  },
  {
   "cell_type": "code",
   "execution_count": null,
   "id": "5d956e10",
   "metadata": {},
   "outputs": [],
   "source": [
    "# remove unnecessary data\n",
    "col_removed = ['_id', 'birthDate', 'birthPlace', 'college', 'highSchool', 'weight', 'career_FG%', 'career_AST', 'career_FG3%', \n",
    "             'career_FT%', 'career_G',  'career_PER', 'career_PTS', 'career_TRB', 'career_WS', 'career_eFG%', 'shoots']\n",
    "merged_df.drop(columns=col_removed, inplace = True)\n",
    "merged_df"
   ]
  },
  {
   "cell_type": "code",
   "execution_count": null,
   "id": "e463b0b3",
   "metadata": {},
   "outputs": [],
   "source": [
    "merged_df.columns.tolist()"
   ]
  },
  {
   "cell_type": "code",
   "execution_count": null,
   "id": "f88a3874",
   "metadata": {},
   "outputs": [],
   "source": [
    "# reorder columns for readability\n",
    "col_reorder = ['season', 'season_end', 'season_start', 'name', 'team', 'position', 'salary', 'height','draft_pick',\n",
    "               'draft_round','draft_team','draft_year']\n",
    "merged_df = merged_df[col_reorder]"
   ]
  },
  {
   "cell_type": "code",
   "execution_count": null,
   "id": "76243744",
   "metadata": {
    "scrolled": true
   },
   "outputs": [],
   "source": [
    "print(merged_df.shape)\n",
    "merged_df.head()"
   ]
  },
  {
   "cell_type": "code",
   "execution_count": null,
   "id": "caecb2e2",
   "metadata": {},
   "outputs": [],
   "source": [
    "merged_df.dtypes"
   ]
  },
  {
   "cell_type": "code",
   "execution_count": null,
   "id": "613b75df",
   "metadata": {},
   "outputs": [],
   "source": [
    "Drop Rank column\n",
    "new_salaries_df.drop(columns= 'RK', inplace = True)"
   ]
  },
  {
   "cell_type": "code",
   "execution_count": null,
   "id": "a2ec7246",
   "metadata": {},
   "outputs": [],
   "source": [
    "new_salaries_df"
   ]
  },
  {
   "cell_type": "code",
   "execution_count": null,
   "id": "6faecf94",
   "metadata": {},
   "outputs": [],
   "source": [
    "# remove the commas and the dollar sign in the salary column\n",
    "new_salaries_df['SALARY'] = new_salaries_df['SALARY'].str.replace(',', '').str.replace('$', '').astype(int)\n",
    "new_salaries_df"
   ]
  },
  {
   "cell_type": "code",
   "execution_count": null,
   "id": "20a87a38",
   "metadata": {},
   "outputs": [],
   "source": [
    "# we want to split the names into last name first name\n",
    "split_df = new_salaries_df['NAME'].str.split(pat=\",\", expand = True)"
   ]
  },
  {
   "cell_type": "code",
   "execution_count": null,
   "id": "1c5ee6b2",
   "metadata": {},
   "outputs": [],
   "source": [
    "# split name and position \n",
    "split_df.columns= ['name', 'position']"
   ]
  },
  {
   "cell_type": "code",
   "execution_count": null,
   "id": "8a4bc3e3",
   "metadata": {},
   "outputs": [],
   "source": [
    "split_df.head()"
   ]
  },
  {
   "cell_type": "code",
   "execution_count": null,
   "id": "1b07c45c",
   "metadata": {},
   "outputs": [],
   "source": [
    "# look for positions to map\n",
    "split_df['position'].unique()"
   ]
  },
  {
   "cell_type": "code",
   "execution_count": null,
   "id": "df74a905",
   "metadata": {
    "scrolled": true
   },
   "outputs": [],
   "source": [
    "# check positions to map\n",
    "merged_df['position'].unique()"
   ]
  },
  {
   "cell_type": "code",
   "execution_count": null,
   "id": "2e6c6435",
   "metadata": {},
   "outputs": [],
   "source": [
    "# # new function that changes the columns name. \n",
    "# def clean_pos(player_position):\n",
    "#     players_position = dict(player_position)\n",
    "#     def change_column_name(old_name, new_name):\n",
    "#         if old_name in play_positions:\n",
    "#             play_position[new_name] = play_position.pop(old_name)\n",
    "#         change_column_name('PG', 'Point Guard')\n",
    "#         change_column_name('SG', 'Shooting Guard')\n",
    "#         change_column_name('PF', 'Power Forward')\n",
    "#         change_column_name('SF', 'Small Forward')\n",
    "#         change_column_name('C', 'Center')\n",
    "#         change_column_name('G', 'Shooting Guard and Point Guard')\n",
    "#         change_column_name('F', 'Small Forward and Power Forward')\n",
    "#         change_column_name('GF', 'Small Forward and Shooting Guard')\n",
    "\n",
    "#         return positions"
   ]
  },
  {
   "cell_type": "code",
   "execution_count": null,
   "id": "fca8b634",
   "metadata": {},
   "outputs": [],
   "source": [
    "# players_position = dict(split_df)"
   ]
  },
  {
   "cell_type": "code",
   "execution_count": null,
   "id": "2151a292",
   "metadata": {},
   "outputs": [],
   "source": [
    "# for players in players_position:\n",
    "#     clean_pos(split_df)"
   ]
  },
  {
   "cell_type": "code",
   "execution_count": null,
   "id": "9894c7f8",
   "metadata": {},
   "outputs": [],
   "source": [
    "# map the new data frame with the old so they share the same position naming\n",
    "positions_dict = {' PG':'Point Guard',' SG':'Shooting Guard',' PF':'Power Forward',\n",
    "                  ' SF':'Small Forward', ' C':'Center', ' G':'Shooting Guard and Point Guard',\n",
    "                 ' F':'Small Forward and Power Forward', ' GF':'Small Forward and Shooting Guard'}"
   ]
  },
  {
   "cell_type": "code",
   "execution_count": null,
   "id": "619c5d07",
   "metadata": {},
   "outputs": [],
   "source": [
    "# https://stackoverflow.com/questions/57873297/pandas-to-replace-value-using-map-function\n",
    "# using map function to change the positions\n",
    "split_df['position'] = split_df['position'].map(positions_dict)"
   ]
  },
  {
   "cell_type": "code",
   "execution_count": null,
   "id": "47c08f60",
   "metadata": {},
   "outputs": [],
   "source": [
    "# check to see if it is successful\n",
    "split_df.head(20)"
   ]
  },
  {
   "cell_type": "code",
   "execution_count": null,
   "id": "dcf7e33f",
   "metadata": {},
   "outputs": [],
   "source": [
    "# split the start and end season for easier filtering\n",
    "dates_df = new_salaries_df['season'].str.split(pat=\"-\", expand = True).astype(int)\n",
    "dates_df.columns=['season_start', 'season_end']\n",
    "dates_df.head()"
   ]
  },
  {
   "cell_type": "code",
   "execution_count": null,
   "id": "bd09b037",
   "metadata": {},
   "outputs": [],
   "source": [
    "# merge new salaries with preprocessed data\n",
    "new_salaries_df = new_salaries_df.merge(split_df, left_index=True, right_index= True)\n",
    "new_salaries_df = new_salaries_df.drop(['NAME'], axis =1)\n",
    "new_salaries_df.head()"
   ]
  },
  {
   "cell_type": "code",
   "execution_count": null,
   "id": "87b1a371",
   "metadata": {},
   "outputs": [],
   "source": [
    "# check new_salaries df to see if it is merged\n",
    "new_salaries_df = pd.concat([new_salaries_df, dates_df], axis=1)\n",
    "new_salaries_df.head()"
   ]
  },
  {
   "cell_type": "code",
   "execution_count": null,
   "id": "61347743",
   "metadata": {},
   "outputs": [],
   "source": [
    "# reorder columns and change to lower case for case issues\n",
    "new_salaries_df = new_salaries_df[['season', 'season_end', 'season_start', 'name', 'TEAM', 'position', 'SALARY']]\n",
    "new_salaries_df.rename(columns = {\"TEAM\": \"team\", \"SALARY\":\"salary\"}, inplace=True)\n",
    "new_salaries_df.head()"
   ]
  },
  {
   "cell_type": "code",
   "execution_count": null,
   "id": "6c452743",
   "metadata": {},
   "outputs": [],
   "source": [
    "# check datatypes\n",
    "new_salaries_df.dtypes"
   ]
  },
  {
   "cell_type": "code",
   "execution_count": null,
   "id": "7432fc6f",
   "metadata": {},
   "outputs": [],
   "source": [
    "# find the salary needed to merge\n",
    "current_salaries_df = new_salaries_df.loc[new_salaries_df['season_start'] >= 2018]\n",
    "current_salaries_df"
   ]
  },
  {
   "cell_type": "code",
   "execution_count": null,
   "id": "7c1894ff",
   "metadata": {},
   "outputs": [],
   "source": [
    "# check merged df\n",
    "merged_df"
   ]
  },
  {
   "cell_type": "code",
   "execution_count": null,
   "id": "89806e77",
   "metadata": {},
   "outputs": [],
   "source": [
    "# drop unnecessary columns\n",
    "merged_df = merged_df.drop(columns = ['height', 'draft_pick', 'draft_round', 'draft_team', 'draft_year'], axis = 1)\n",
    "merged_df"
   ]
  },
  {
   "cell_type": "code",
   "execution_count": null,
   "id": "fd5e6ff0",
   "metadata": {},
   "outputs": [],
   "source": [
    "# merge the new and old into one data frame\n",
    "final_salaries = merged_df.append(current_salaries_df, ignore_index=True, sort=False)\n",
    "final_salaries"
   ]
  },
  {
   "cell_type": "code",
   "execution_count": null,
   "id": "eb3ede42",
   "metadata": {},
   "outputs": [],
   "source": [
    "# check data types\n",
    "final_salaries.dtypes"
   ]
  },
  {
   "cell_type": "code",
   "execution_count": null,
   "id": "4ef56cac",
   "metadata": {},
   "outputs": [],
   "source": [
    "# save file path\n",
    "save_file_path = os.path.join(pwd,'salaries_1985to2022.csv')\n",
    "final_salaries.to_csv(save_file_path, index = False)"
   ]
  },
  {
   "cell_type": "code",
   "execution_count": null,
   "id": "79347123",
   "metadata": {},
   "outputs": [],
   "source": [
    "# connect to the AWS postres \n",
    "from sqlalchemy import create_engine\n",
    "import psycopg2 \n",
    "import io\n",
    "from config import password\n",
    "\n",
    "DB_address = 'nbadb.ca9dadq6ltaa.us-east-2.rds.amazonaws.com'\n",
    "engine = create_engine(f'postgresql://team:{password}@{DB_address}:5432/NBA_database')\n",
    "final_salaries.head(0).to_sql('salaries_1985to2022', engine, if_exists='replace',index=False) #drops old table and creates new empty table\n",
    "\n",
    "conn = engine.raw_connection()\n",
    "cur = conn.cursor()\n",
    "output = io.StringIO()\n",
    "final_salaries.to_csv(save_file_path, header= False, index = False)\n",
    "output.seek(0)\n",
    "contents = output.getvalue()\n",
    "cur.copy_from(output, 'salaries_1985to2022', null=\"\") # null values become ''\n",
    "conn.commit()"
   ]
  },
  {
   "cell_type": "code",
   "execution_count": null,
   "id": "4eb7feae",
   "metadata": {},
   "outputs": [],
   "source": []
  }
 ],
 "metadata": {
  "kernelspec": {
   "display_name": "Python 3",
   "language": "python",
   "name": "python3"
  },
  "language_info": {
   "codemirror_mode": {
    "name": "ipython",
    "version": 3
   },
   "file_extension": ".py",
   "mimetype": "text/x-python",
   "name": "python",
   "nbconvert_exporter": "python",
   "pygments_lexer": "ipython3",
   "version": "3.8.8"
  }
 },
 "nbformat": 4,
 "nbformat_minor": 5
}
