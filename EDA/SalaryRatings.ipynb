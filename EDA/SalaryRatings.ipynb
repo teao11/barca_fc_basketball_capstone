{
 "cells": [
  {
   "cell_type": "code",
   "execution_count": null,
   "id": "6c4f3d1e",
   "metadata": {},
   "outputs": [],
   "source": [
    "# import dependencies\n",
    "import pandas as pd\n",
    "import nba_api\n",
    "import time\n",
    "from nba_api.stats.static import players, teams\n",
    "from nba_api.stats.endpoints import commonplayerinfo, teamgamelogs, playercareerstats, playergamelogs, \\\n",
    "leaguegamelog, leaguegamefinder, playerdashboardbyyearoveryear\n",
    "from nba_api.stats.library.parameters import SeasonAll\n",
    "from itertools import zip_longest\n",
    "import os\n",
    "import numpy as np"
   ]
  },
  {
   "cell_type": "code",
   "execution_count": null,
   "id": "f8ce2f47",
   "metadata": {},
   "outputs": [],
   "source": [
    "pwd = os.getcwd()"
   ]
  },
  {
   "cell_type": "code",
   "execution_count": null,
   "id": "5aa9f9ef",
   "metadata": {},
   "outputs": [],
   "source": [
    "# header to connect to the API\n",
    "custom_headers = {\n",
    "    'Host': 'stats.nba.com',\n",
    "    'Connection': 'keep-alive',\n",
    "    'Cache-Control': 'max-age=0',\n",
    "    'Upgrade-Insecure-Requests': '1',\n",
    "    'User-Agent': 'Mozilla/5.0 (Macintosh; Intel Mac OS X 10_14_3) AppleWebKit/537.36 (KHTML, like Gecko) Chrome/73.0.3683.86 Safari/537.36',\n",
    "    'Accept': 'text/html,application/xhtml+xml,application/xml;q=0.9,image/webp,image/apng,*/*;q=0.8,application/signed-exchange;v=b3',\n",
    "    'Accept-Encoding': 'gzip, deflate, br',\n",
    "    'Accept-Language': 'en-US,en;q=0.9',\n",
    "}"
   ]
  },
  {
   "cell_type": "code",
   "execution_count": null,
   "id": "b4cb84c4",
   "metadata": {},
   "outputs": [],
   "source": [
    "# Get all players dictionary.\n",
    "all_players_dict = players.get_players()\n",
    "all_players_dict"
   ]
  },
  {
   "cell_type": "code",
   "execution_count": null,
   "id": "7dd5b5e3",
   "metadata": {},
   "outputs": [],
   "source": [
    "# flatten data aka melting\n",
    "all_players_df = pd.json_normalize(all_players_dict)\n",
    "all_players_df"
   ]
  },
  {
   "cell_type": "code",
   "execution_count": null,
   "id": "40712276",
   "metadata": {},
   "outputs": [],
   "source": [
    "# load in salaries data\n",
    "salaries_path = os.path.join(pwd, 'Resources', 'salaries_1985to2022.csv')\n",
    "salaries_df = pd.read_csv(salaries_path)\n",
    "salaries_df "
   ]
  },
  {
   "cell_type": "code",
   "execution_count": null,
   "id": "8360a0d6",
   "metadata": {},
   "outputs": [],
   "source": [
    "# Modern salaries data\n",
    "modern_salaries_df = salaries_df.loc[salaries_df['season_start'] >= 2000]\n",
    "modern_salaries_df"
   ]
  },
  {
   "cell_type": "code",
   "execution_count": null,
   "id": "3cc54669",
   "metadata": {},
   "outputs": [],
   "source": [
    "# Modern Raptor Data \n",
    "rap_mod = os.path.join(pwd, 'Resources', 'modern_RAPTOR_by_player.csv')\n",
    "mod_rap_df = pd.read_csv(rap_mod)"
   ]
  },
  {
   "cell_type": "code",
   "execution_count": null,
   "id": "03f2ecba",
   "metadata": {},
   "outputs": [],
   "source": [
    "# Historical Raptor Data\n",
    "rap_hist = os.path.join(pwd, 'Resources', 'historical_RAPTOR_by_player.csv')\n",
    "hist_rap_df = pd.read_csv(rap_hist)"
   ]
  },
  {
   "cell_type": "code",
   "execution_count": null,
   "id": "93ceb7a4",
   "metadata": {},
   "outputs": [],
   "source": [
    "# check how recent is modern raptor data\n",
    "print(mod_rap_df['season'].max())\n",
    "print(mod_rap_df['season'].min())"
   ]
  },
  {
   "cell_type": "code",
   "execution_count": null,
   "id": "79a3c85a",
   "metadata": {},
   "outputs": [],
   "source": [
    "# check dates for historical raptor data\n",
    "print(hist_rap_df['season'].max())\n",
    "print(hist_rap_df['season'].min())"
   ]
  },
  {
   "cell_type": "code",
   "execution_count": null,
   "id": "db433cef",
   "metadata": {
    "scrolled": true
   },
   "outputs": [],
   "source": [
    "hist_rap_df.head(15)"
   ]
  },
  {
   "cell_type": "code",
   "execution_count": null,
   "id": "c94bce8f",
   "metadata": {
    "scrolled": true
   },
   "outputs": [],
   "source": [
    "mod_rap_df.head(15)"
   ]
  },
  {
   "cell_type": "code",
   "execution_count": null,
   "id": "6567a286",
   "metadata": {},
   "outputs": [],
   "source": [
    "# check to see if historical contains the same as modern\n",
    "hist_rap_df.loc[hist_rap_df['player_name'] == 'Alex Abrines']"
   ]
  },
  {
   "cell_type": "code",
   "execution_count": null,
   "id": "432bc433",
   "metadata": {},
   "outputs": [],
   "source": [
    "# get seasons from 2000 upwards\n",
    "two_thousands_rap_df = hist_rap_df.loc[hist_rap_df['season'] >= 2000]\n",
    "two_thousands_rap_df"
   ]
  },
  {
   "cell_type": "code",
   "execution_count": null,
   "id": "f867a8dd",
   "metadata": {},
   "outputs": [],
   "source": [
    "# check to see if season minimum starts at 2000\n",
    "two_thousands_rap_df['season'].min()"
   ]
  },
  {
   "cell_type": "code",
   "execution_count": null,
   "id": "dcdf4156",
   "metadata": {},
   "outputs": [],
   "source": [
    "# check column features\n",
    "two_thousands_rap_df.columns.tolist()"
   ]
  },
  {
   "cell_type": "code",
   "execution_count": null,
   "id": "9ee759e4",
   "metadata": {},
   "outputs": [],
   "source": [
    "# drop unnecessary data\n",
    "two_thousands_rap_df= two_thousands_rap_df.drop(columns=['poss', 'war_reg_season', 'war_playoffs','predator_offense', \n",
    "                                   'predator_defense','pace_impact', 'predator_total'])"
   ]
  },
  {
   "cell_type": "code",
   "execution_count": null,
   "id": "8e0975f3",
   "metadata": {},
   "outputs": [],
   "source": [
    "# check df\n",
    "two_thousands_rap_df"
   ]
  },
  {
   "cell_type": "code",
   "execution_count": null,
   "id": "047568e4",
   "metadata": {
    "scrolled": true
   },
   "outputs": [],
   "source": [
    "# save the file into csv so we won't have to repeat process\n",
    "path = os.path.join(pwd, 'Resources', 'playermainstats.csv')\n",
    "main_stats = pd.read_csv(path)\n",
    "main_stats"
   ]
  },
  {
   "cell_type": "code",
   "execution_count": null,
   "id": "dfce5495",
   "metadata": {},
   "outputs": [],
   "source": [
    "# use regex to find group value that starts with 2 so we get 2000 and newer since Group_value is an object (string)\n",
    "recent_stats = main_stats[main_stats['GROUP_VALUE'].str.contains(r'2(?!$)')]\n",
    "recent_stats"
   ]
  },
  {
   "cell_type": "code",
   "execution_count": null,
   "id": "dbc7fbc8",
   "metadata": {},
   "outputs": [],
   "source": [
    "# save the salaries dataset \n",
    "salary_path = os.path.join(pwd, 'Recources', 'salaries_1985to2022.csv')\n",
    "salaries_df = pd.read_csv(salaries_path)\n",
    "salaries_df"
   ]
  },
  {
   "cell_type": "code",
   "execution_count": null,
   "id": "31d0094b",
   "metadata": {
    "scrolled": true
   },
   "outputs": [],
   "source": [
    "# use loc to find salaries starting from 2000 and above\n",
    "recent_salaries_df = salaries_df.loc[salaries_df['season_start'] >= 2000]\n",
    "recent_salaries_df"
   ]
  },
  {
   "cell_type": "code",
   "execution_count": null,
   "id": "d09139f4",
   "metadata": {},
   "outputs": [],
   "source": [
    "# look through df\n",
    "recent_stats.head(5)"
   ]
  },
  {
   "cell_type": "code",
   "execution_count": null,
   "id": "59377e99",
   "metadata": {
    "scrolled": true
   },
   "outputs": [],
   "source": [
    "# split the season we find only season start. change string to int\n",
    "dates_df = recent_stats['GROUP_VALUE'].str.split(pat=\"-\", expand = True).astype(int)\n",
    "dates_df.columns=['season', 'drop']\n",
    "dates_df.head()"
   ]
  },
  {
   "cell_type": "code",
   "execution_count": null,
   "id": "a053216c",
   "metadata": {},
   "outputs": [],
   "source": [
    "# ass new column dates df with recent stats\n",
    "dates_df = dates_df.drop(['drop'],axis=1)\n",
    "recent_stats = pd.concat([recent_stats,dates_df], axis = 1)\n",
    "recent_stats = recent_stats.drop(['GROUP_VALUE'], axis =1)"
   ]
  },
  {
   "cell_type": "code",
   "execution_count": null,
   "id": "e81aebd4",
   "metadata": {
    "scrolled": true
   },
   "outputs": [],
   "source": [
    "recent_stats.head(5)"
   ]
  },
  {
   "cell_type": "code",
   "execution_count": null,
   "id": "aed799f7",
   "metadata": {},
   "outputs": [],
   "source": [
    "# drop season and season end columns and rename season start to only season\n",
    "recent_salaries_df = recent_salaries_df.drop(columns = ['season', 'season_end'])\n",
    "recent_salaries_df= recent_salaries_df.rename(columns = {'season_start': 'season'})\n",
    "recent_salaries_df.head(5)"
   ]
  },
  {
   "cell_type": "code",
   "execution_count": null,
   "id": "c26971db",
   "metadata": {},
   "outputs": [],
   "source": [
    "# split full name to first name and last name for easier merging\n",
    "name_split = recent_salaries_df.name.str.split(expand=True)\n",
    "name_split = name_split.drop(columns = [2, 3])\n",
    "name_split.columns = ['first_name', 'last_name']\n",
    "name_split.head(5)"
   ]
  },
  {
   "cell_type": "code",
   "execution_count": null,
   "id": "57e1c185",
   "metadata": {},
   "outputs": [],
   "source": [
    "# concat recent salaries with split names\n",
    "recent_salaries_df = pd.concat([recent_salaries_df,name_split], axis = 1)\n",
    "recent_salaries_df.head()"
   ]
  },
  {
   "cell_type": "code",
   "execution_count": null,
   "id": "24b76aea",
   "metadata": {},
   "outputs": [],
   "source": [
    "# inner join with recent salaries and recent stats to combine the df\n",
    "salary_stat = pd.merge(recent_salaries_df, recent_stats,  how='inner', left_on=['season','first_name', 'last_name'], \n",
    "                       right_on = ['season','first_name', 'last_name'])"
   ]
  },
  {
   "cell_type": "code",
   "execution_count": null,
   "id": "2a40c25b",
   "metadata": {},
   "outputs": [],
   "source": [
    "salary_stat.loc[salary_stat['first_name'] == 'LeBron']"
   ]
  },
  {
   "cell_type": "code",
   "execution_count": null,
   "id": "e1a5070f",
   "metadata": {
    "scrolled": true
   },
   "outputs": [],
   "source": [
    "print(salary_stat.shape)\n",
    "salary_stat.head(15)"
   ]
  },
  {
   "cell_type": "code",
   "execution_count": null,
   "id": "6adc9178",
   "metadata": {},
   "outputs": [],
   "source": [
    "# split full name in raptor data\n",
    "rap_name_split = two_thousands_rap_df.player_name.str.split(expand=True)\n",
    "rap_name_split = rap_name_split.drop(columns = [2, 3])\n",
    "rap_name_split.columns = ['first_name', 'last_name']\n",
    "rap_name_split.head(5)"
   ]
  },
  {
   "cell_type": "code",
   "execution_count": null,
   "id": "b84a3f54",
   "metadata": {},
   "outputs": [],
   "source": [
    "# concat the first and alst name into the recent raptor data\n",
    "two_thousands_rap_df = pd.concat([two_thousands_rap_df,rap_name_split], axis = 1)\n",
    "two_thousands_rap_df.head()"
   ]
  },
  {
   "cell_type": "code",
   "execution_count": null,
   "id": "72891c4a",
   "metadata": {
    "scrolled": true
   },
   "outputs": [],
   "source": [
    "# inner join the raptor data with the salaries and the stats data\n",
    "final_df = pd.merge(salary_stat, two_thousands_rap_df,  how='inner', left_on=['season','first_name', 'last_name'], \n",
    "                       right_on = ['season','first_name', 'last_name'])\n",
    "\n",
    "print(final_df.shape)\n",
    "final_df.head(15)"
   ]
  },
  {
   "cell_type": "code",
   "execution_count": null,
   "id": "f4f043b2",
   "metadata": {},
   "outputs": [],
   "source": [
    "# check to see if inner join worked with our favorite player Lebron\n",
    "final_df.loc[final_df['first_name'] == 'LeBron']"
   ]
  },
  {
   "cell_type": "code",
   "execution_count": null,
   "id": "b5493b8a",
   "metadata": {
    "scrolled": false
   },
   "outputs": [],
   "source": [
    "# check columns\n",
    "final_df.columns.tolist()"
   ]
  },
  {
   "cell_type": "code",
   "execution_count": null,
   "id": "f6e75094",
   "metadata": {
    "scrolled": true
   },
   "outputs": [],
   "source": [
    "# drop unnecessary columns\n",
    "columns_drop = ['id','player_name','player_id', 'name']\n",
    "final_df = final_df.drop(columns = columns_drop, axis = 1)\n",
    "final_df"
   ]
  },
  {
   "cell_type": "code",
   "execution_count": null,
   "id": "676b4a32",
   "metadata": {},
   "outputs": [],
   "source": [
    "# check columns\n",
    "final_df.columns"
   ]
  },
  {
   "cell_type": "code",
   "execution_count": null,
   "id": "55cfaedd",
   "metadata": {},
   "outputs": [],
   "source": [
    "# reorder columns for readability\n",
    "columns_reorder = ['season', 'team','TEAM_ABBREVIATION', 'first_name', 'last_name',\n",
    "       'full_name', 'position', 'salary', 'MIN', 'FG_PCT', 'FG3_PCT', 'FT_PCT',\n",
    "       'REB', 'AST', 'TOV', 'STL', 'BLK', 'PTS', 'mp', 'raptor_offense',\n",
    "       'raptor_defense', 'raptor_total', 'war_total']\n",
    "final_df = final_df[columns_reorder]\n",
    "final_df"
   ]
  },
  {
   "cell_type": "code",
   "execution_count": null,
   "id": "7b646f47",
   "metadata": {},
   "outputs": [],
   "source": [
    "# save file path\n",
    "save_file_path = os.path.join(pwd,'salraptstats.csv')\n",
    "final_df.to_csv(save_file_path, index = False)"
   ]
  },
  {
   "cell_type": "code",
   "execution_count": null,
   "id": "fef6d88c",
   "metadata": {},
   "outputs": [],
   "source": [
    "# They have an equation they give which calculates WAR from RAPTOR.\n",
    "# Basically, if I'm interpreting correctly, RAPTOR is the assessment of the play, \n",
    "# WAR is cumulative value relative to a replacement player.\n",
    "# \"WAR\" has proven a confusing name to give a stat in the NBA because all the metrics have \n",
    "# a variation attempting to estimate wins above replacement."
   ]
  },
  {
   "cell_type": "code",
   "execution_count": null,
   "id": "9b7151ae",
   "metadata": {},
   "outputs": [],
   "source": [
    "# next steps: \n",
    "# merge salaries with stats in Postgres from 2000-current\n",
    "# load in merged data\n",
    "# clean raptor data so only has raptor offense, defense, total, war total\n",
    "# add cleaned raptor to salary stats table\n",
    "# clean table so it is easy to read with only a few features\n",
    "# build dashboard"
   ]
  },
  {
   "cell_type": "code",
   "execution_count": null,
   "id": "234fb19c",
   "metadata": {},
   "outputs": [],
   "source": [
    "# store into sql database\n",
    "from sqlalchemy import create_engine\n",
    "import psycopg2 \n",
    "import io\n",
    "from config import password\n",
    "import time\n",
    "\n",
    "DB_address = 'nbadb.ca9dadq6ltaa.us-east-2.rds.amazonaws.com'\n",
    "engine = create_engine(f'postgresql://team:{password}@{DB_address}:5432/NBA_database')\n",
    "final_df.to_sql('salraptstats', engine, if_exists='replace',index=False) #drops old table and creates new empty table\n",
    "\n",
    "# import the ratings data in chunks because it is too big \n",
    "# create a variable for the number of rows imported\n",
    "rows_imported = 0\n",
    "# gets the start time from time.time()\n",
    "start_time = time.time()\n",
    "for data in pd.read_csv(f'{pwd}/salraptstats.csv', chunksize=1000000):\n",
    "\n",
    "    # print out the range of rows that are being imported\n",
    "    print(f'importing rows {rows_imported} to {rows_imported + len(data)}...', end='')\n",
    "    data.to_sql(name='salraptstats', con=engine, if_exists='append', index=False)\n",
    "\n",
    "    # increment the number of rows imported by the chunksize\n",
    "    rows_imported += len(data)\n",
    "    # print that the rows have finished importing\n",
    "    print(f'Done. {time.time()- start_time} total seconds elapsed')"
   ]
  },
  {
   "cell_type": "code",
   "execution_count": null,
   "id": "52f374fa",
   "metadata": {},
   "outputs": [],
   "source": []
  }
 ],
 "metadata": {
  "kernelspec": {
   "display_name": "Python 3",
   "language": "python",
   "name": "python3"
  },
  "language_info": {
   "codemirror_mode": {
    "name": "ipython",
    "version": 3
   },
   "file_extension": ".py",
   "mimetype": "text/x-python",
   "name": "python",
   "nbconvert_exporter": "python",
   "pygments_lexer": "ipython3",
   "version": "3.8.8"
  }
 },
 "nbformat": 4,
 "nbformat_minor": 5
}
